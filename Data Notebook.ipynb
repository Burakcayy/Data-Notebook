{
 "cells": [
  {
   "cell_type": "markdown",
   "metadata": {},
   "source": [
    "<center>\n",
    "    <img src=\"https://cf-courses-data.s3.us.cloud-object-storage.appdomain.cloud/IBMDeveloperSkillsNetwork-DS0105EN-SkillsNetwork/labs/Module2/images/SN_web_lightmode.png\" width=\"300\" alt=\"cognitiveclass.ai logo\">\n",
    "</center>\n"
   ]
  },
  {
   "cell_type": "markdown",
   "metadata": {},
   "source": [
    "#### Add your code below following the instructions given in the course\n"
   ]
  },
  {
   "cell_type": "code",
   "execution_count": null,
   "metadata": {},
   "outputs": [],
   "source": "Introduction to Data Science with Jupyterlite Notebook"
  },
  {
   "cell_type": "code",
   "execution_count": null,
   "metadata": {},
   "outputs": [],
   "source": [
    "# Introduction\n",
    "\n",
    "Welcome to this Jupyterlite Notebook on Introduction to Data Science! In this notebook, we will explore various concepts related to data science, including programming languages, libraries, tools, and basic arithmetic operations.\n",
    "This notebook is designed to provide a foundational understanding of data science concepts and techniques, making it an ideal starting point for beginners in the field.\n",
    "\n",
    "Let's dive in and explore the fascinating world of data science together!"
   ]
  },
  {
   "cell_type": "code",
   "execution_count": null,
   "metadata": {},
   "outputs": [],
   "source": [
    "## Data Science Languages\n",
    "\n",
    "1. Python\n",
    "2. R\n",
    "3. SQL\n",
    "4. Scala\n",
    "5. Julia"
   ]
  },
  {
   "cell_type": "code",
   "execution_count": null,
   "metadata": {},
   "outputs": [],
   "source": [
    "## Data Science Libraries\n",
    "\n",
    "1. NumPy\n",
    "2. Pandas\n",
    "3. Matplotlib\n",
    "4. Seaborn\n",
    "5. Scikit-learn\n",
    "6. TensorFlow\n",
    "7. PyTorch\n",
    "8. Keras\n",
    "9. Statsmodels\n",
    "10. NLTK (Natural Language Toolkit)"
   ]
  },
  {
   "cell_type": "code",
   "execution_count": null,
   "metadata": {},
   "outputs": [],
   "source": [
    "## Data Science Tools\n",
    "\n",
    "| Tool           | Description                                                        |\n",
    "|----------------|--------------------------------------------------------------------|\n",
    "| Jupyter Notebook | Interactive computing environment for data analysis and visualization |\n",
    "| RStudio        | Integrated development environment for R programming language      |\n",
    "| SQL            | Language used for managing and querying relational databases       |\n",
    "| Apache Spark   | Distributed computing framework for big data processing            |\n",
    "| Tableau        | Data visualization tool for creating interactive dashboards        |\n",
    "| Power BI       | Business analytics tool for creating reports and dashboards         |\n",
    "| Git            | Version control system for tracking changes in code                 |\n",
    "| Docker         | Containerization platform for building, shipping, and running apps  |\n",
    "| TensorFlow     | Open-source machine learning framework developed by Google          |\n",
    "| PyTorch        | Open-source machine learning framework developed by Facebook        |\n"
   ]
  },
  {
   "cell_type": "code",
   "execution_count": null,
   "metadata": {},
   "outputs": [],
   "source": [
    "## Arithmetic Expression Examples\n",
    "\n",
    "In the following code cells, we will explore some basic arithmetic operations using Python.\n",
    "These operations include addition, subtraction, multiplication, and division.\n",
    "We will also demonstrate how to perform exponentiation and modulo operations."
   ]
  },
  {
   "cell_type": "code",
   "execution_count": null,
   "metadata": {},
   "outputs": [],
   "source": [
    "# Multiply and Add Numbers\n",
    "num1 = 10\n",
    "num2 = 5\n",
    "\n",
    "# Multiply\n",
    "product = num1 * num2\n",
    "print(\"Product:\", product)\n",
    "\n",
    "# Add\n",
    "sum = num1 + num2\n",
    "print(\"Sum:\", sum)"
   ]
  },
  {
   "cell_type": "code",
   "execution_count": null,
   "metadata": {},
   "outputs": [],
   "source": [
    "# Convert Minutes to Hours\n",
    "minutes = 150\n",
    "\n",
    "# Convert minutes to hours\n",
    "hours = minutes / 60\n",
    "\n",
    "print(\"Minutes:\", minutes)\n",
    "print(\"Hours:\", hours)"
   ]
  },
  {
   "cell_type": "code",
   "execution_count": null,
   "metadata": {},
   "outputs": [],
   "source": [
    "## Objectives\n",
    "\n",
    "1. Familiarize with Jupyterlite Notebook.\n",
    "2. Explore basic data science concepts.\n",
    "3. Learn about data science languages and libraries.\n",
    "4. Understand the role of data science tools in the field.\n",
    "5. Practice basic arithmetic operations using Python.\n",
    "6. Gain hands-on experience with code examples."
   ]
  },
  {
   "cell_type": "code",
   "execution_count": null,
   "metadata": {},
   "outputs": [],
   "source": [
    "## Author\n",
    "\n",
    "This notebook was created by [Burak AKÇAY]."
   ]
  },
  {
   "cell_type": "code",
   "execution_count": null,
   "metadata": {},
   "outputs": [],
   "source": []
  }
 ],
 "metadata": {
  "kernelspec": {
   "display_name": "Python",
   "language": "python",
   "name": "conda-env-python-py"
  },
  "language_info": {
   "codemirror_mode": {
    "name": "ipython",
    "version": 3
   },
   "file_extension": ".py",
   "mimetype": "text/x-python",
   "name": "python",
   "nbconvert_exporter": "python",
   "pygments_lexer": "ipython3",
   "version": "3.7.12"
  }
 },
 "nbformat": 4,
 "nbformat_minor": 4
}
